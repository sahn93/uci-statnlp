{
 "cells": [
  {
   "cell_type": "markdown",
   "id": "e5b6aab8-ab27-46fb-916b-067ca3ba26dc",
   "metadata": {},
   "source": [
    "## Which labels to include in Dl_hat in every iteration?\n",
    "https://towardsdatascience.com/self-training-for-natural-language-understanding-d5c369b5a7f6\n",
    "\n",
    "Select top K samples from unlabeled data for each category based on the teacher's prediction."
   ]
  },
  {
   "cell_type": "code",
   "execution_count": 2,
   "id": "93c90d71-311f-48b0-a596-978fe65f8b7c",
   "metadata": {},
   "outputs": [],
   "source": [
    "from speech import *\n",
    "from classify import evaluate"
   ]
  },
  {
   "cell_type": "code",
   "execution_count": 15,
   "id": "1f02af8f-58e9-48a4-a570-770ba0f983f6",
   "metadata": {},
   "outputs": [],
   "source": [
    "from sklearn.linear_model import LogisticRegression\n",
    "import numpy as np\n",
    "from scipy.sparse import vstack\n",
    "\n",
    "def self_train(Xu, Xl, yl, devX, devy, C=0.5, confident_cutoff=0.8):\n",
    "    Xhat, yhat = Xl, yl\n",
    "    num_iter = 0\n",
    "    num_stall = 0\n",
    "    curr_best = .0\n",
    "    \n",
    "    clss = []\n",
    "    accs = []\n",
    "    data_sizes = []\n",
    "    \n",
    "    while True:\n",
    "        # Train\n",
    "        num_iter += 1\n",
    "        data_sizes.append(Xhat.shape[0])\n",
    "        print(f\"{num_iter}th train\")\n",
    "        print(\"Data size:\", Xhat.shape, yhat.shape)\n",
    "        cls = LogisticRegression(max_iter=10000, n_jobs=-1, C=C)\n",
    "        cls.fit(Xhat, yhat)\n",
    "        clss.append(cls)\n",
    "        \n",
    "        print(\"Evaluate Dev\")\n",
    "        acc = evaluate(devX, devy, cls)\n",
    "        accs.append(acc)\n",
    "        \n",
    "        if acc > curr_best:\n",
    "            print(\"new best score\")\n",
    "            curr_best = max(acc, curr_best)\n",
    "            num_stall = 0\n",
    "        else:\n",
    "            num_stall += 1\n",
    "            print(f\"stall {num_stall} times\")\n",
    "            if num_stall >= 5:\n",
    "                print(f\"dev accuracy is not improving for {num_stall} iterations. Stop.\")\n",
    "                break\n",
    "\n",
    "        # Predict\n",
    "        print(\"Predicting unlabeled data with the previous model\")\n",
    "        yu_hat = cls.predict(Xu)\n",
    "        confidents = cls.predict_proba(Xu).max(axis=1)\n",
    "\n",
    "        # Expand Confident samples\n",
    "        confident_Xu = Xu[confidents >= confident_cutoff]\n",
    "        confident_yu_hat = yu_hat[confidents >= confident_cutoff]\n",
    "        Xu = Xu[confidents < confident_cutoff]\n",
    "\n",
    "        if confident_Xu.shape[0] == 0:\n",
    "            print(\"Data size has converged\")\n",
    "            break\n",
    "        \n",
    "        print(\"Data added:\", confident_Xu.shape)\n",
    "        Xhat = vstack((Xhat, confident_Xu))\n",
    "        yhat = np.concatenate((yhat, confident_yu_hat), axis=0)\n",
    "            \n",
    "    return clss, accs, data_sizes"
   ]
  },
  {
   "cell_type": "code",
   "execution_count": 16,
   "id": "724a7c3a-b21c-4291-bcf7-cf0676368f67",
   "metadata": {},
   "outputs": [],
   "source": [
    "def student_teacher(Xu, Xl, yl, devX, devy, C=0.5):\n",
    "    # Train Teacher\n",
    "    print(f\"Train teacher model\")\n",
    "    print(\"Data size:\", Xl.shape, yl.shape)\n",
    "    teacher_cls = LogisticRegression(max_iter=10000, n_jobs=-1, C=C)\n",
    "    teacher_cls.fit(Xl, yl)\n",
    "    \n",
    "    print(\"Evaluate Dev\")\n",
    "    teacher_acc = evaluate(devX, devy, teacher_cls)\n",
    "\n",
    "    # Predict\n",
    "    print(\"Predicting unlabeled data with the teacher model\")\n",
    "    yu_hat = teacher_cls.predict(Xu)\n",
    "    confidents = teacher_cls.predict_proba(Xu).max(axis=1)\n",
    "\n",
    "    # Get top K Confident samples for each classes\n",
    "    topk_Xus = [Xl]\n",
    "    topk_y_hats = [yl]\n",
    "    for label in np.unique(yl):\n",
    "        X = Xu[yu_hat==label]\n",
    "        y = yu_hat[yu_hat==label]\n",
    "        print(X.shape, y.shape)\n",
    "        K = min(X.shape[0], 100000)\n",
    "        label_confs = confidents[yu_hat==label]\n",
    "        \n",
    "        ind = np.argpartition(label_confs, -K)[-K:]\n",
    "        topk_Xus.append(X[ind])\n",
    "        topk_y_hats.append(y[ind])\n",
    "\n",
    "    Xhat = vstack(topk_Xus)\n",
    "    yhat = np.concatenate(topk_y_hats, axis=0)\n",
    "    \n",
    "    # Train Student\n",
    "    print(f\"Train student model\")\n",
    "    print(\"Data size:\", Xhat.shape, yhat.shape)\n",
    "    student_cls = LogisticRegression(max_iter=10000, n_jobs=-1, C=C)\n",
    "    student_cls.fit(Xhat, yhat)\n",
    "    \n",
    "    print(\"Evaluate Dev\")\n",
    "    student_acc = evaluate(devX, devy, student_cls)\n",
    "            \n",
    "    return student_cls, student_acc, teacher_cls, teacher_acc"
   ]
  },
  {
   "cell_type": "code",
   "execution_count": 45,
   "id": "4d6b14c6-1fd6-498c-89cb-adf7b6fac409",
   "metadata": {},
   "outputs": [
    {
     "name": "stdout",
     "output_type": "stream",
     "text": [
      "Training BPE with training data:\n",
      "data/speech/train.tsv\n"
     ]
    }
   ],
   "source": [
    "from nltk.stem import WordNetLemmatizer\n",
    "\n",
    "class Lemmatizer(object):\n",
    "    def __init__(self):\n",
    "        self.wnl = WordNetLemmatizer()\n",
    "    def __call__(self, sentence):\n",
    "        return ' '.join([self.wnl.lemmatize(word) for word in sentence.split()])\n",
    "\n",
    "from tokenizers import Tokenizer\n",
    "from tokenizers.models import BPE\n",
    "from tokenizers.pre_tokenizers import Whitespace\n",
    "from tokenizers.trainers import BpeTrainer\n",
    "from speech import *\n",
    "from classify import evaluate\n",
    "from tokenizers.processors import TemplateProcessing\n",
    "from tokenizers import normalizers\n",
    "from tokenizers.normalizers import NFD, StripAccents\n",
    "from os import listdir\n",
    "\n",
    "def get_file_list(tsv_file):\n",
    "    print(tsv_file)\n",
    "    fnames = []\n",
    "    with open(tsv_file, 'r') as f:\n",
    "        for line in f:\n",
    "            fname, label = line.strip().split('\\t')\n",
    "            fnames.append(f\"data/speech/{fname}\")\n",
    "    return fnames\n",
    "\n",
    "def get_unlabeled_file_list():\n",
    "    lst = []\n",
    "    dirname = 'data/speech/unlabeled'\n",
    "    for fname in listdir(dirname):\n",
    "        if \".txt\" in fname:\n",
    "            lst.append(f'{dirname}/{fname}')\n",
    "    return lst\n",
    "\n",
    "class BPETokenizer(object):\n",
    "    def __init__(self):\n",
    "        self.tokenizer = Tokenizer(BPE(unk_token=\"[UNK]\"))\n",
    "        self.tokenizer.pre_tokenizer = Whitespace()\n",
    "        self.tokenizer.normalizer = normalizers.Sequence([NFD(), StripAccents()])\n",
    "        self.tokenizer.post_processor = TemplateProcessing(\n",
    "            single=\"[CLS] $A [SEP]\",\n",
    "            pair=\"[CLS] $A [SEP] $B:1 [SEP]:1\",\n",
    "            special_tokens=[\n",
    "                (\"[CLS]\", 1),\n",
    "                (\"[SEP]\", 2),\n",
    "            ],\n",
    "        )\n",
    "        \n",
    "        trainer = BpeTrainer(special_tokens=[\"[UNK]\", \"[CLS]\", \"[SEP]\", \"[PAD]\", \"[MASK]\"])\n",
    "        print(\"Training BPE with training data:\")\n",
    "        # files = get_file_list(\"data/speech/train.tsv\") + get_unlabeled_file_list()\n",
    "        files = get_file_list(\"data/speech/train.tsv\")\n",
    "        self.tokenizer.train(files=files, trainer=trainer)\n",
    "\n",
    "    def __call__(self, articles):\n",
    "        return self.tokenizer.encode(articles).tokens\n",
    "\n",
    "bpe_tokenizer = BPETokenizer()"
   ]
  },
  {
   "cell_type": "code",
   "execution_count": 46,
   "id": "c257342b-7baf-4842-a7ed-f719140a0645",
   "metadata": {},
   "outputs": [
    {
     "name": "stdout",
     "output_type": "stream",
     "text": [
      "Reading data\n",
      "-- train data\n",
      "train.tsv\n",
      "4370\n",
      "-- dev data\n",
      "dev.tsv\n",
      "414\n",
      "-- transforming data and labels\n",
      "(4370, 8550)\n",
      "Reading unlabeled data\n",
      "(43342, 8550)\n",
      "(43342, 8550)\n"
     ]
    }
   ],
   "source": [
    "print(\"Reading data\")\n",
    "tarfname = \"data/speech.tar.gz\"\n",
    "speech = read_files(tarfname, preprocessor=Lemmatizer(), tokenizer=bpe_tokenizer)\n",
    "print(speech.trainX.shape)\n",
    "\n",
    "print(\"Reading unlabeled data\")\n",
    "unlabeled = read_unlabeled(tarfname, speech)\n",
    "print(unlabeled.X.shape)"
   ]
  },
  {
   "cell_type": "code",
   "execution_count": 47,
   "id": "79fda4aa-bd4f-4273-a21f-8206707cc74e",
   "metadata": {},
   "outputs": [
    {
     "name": "stdout",
     "output_type": "stream",
     "text": [
      "Training classifier\n",
      "1th train\n",
      "Data size: (4370, 8550) (4370,)\n",
      "Evaluate Dev\n",
      "  Accuracy 0.4492753623188406\n",
      "new best score\n",
      "Predicting unlabeled data with the previous model\n",
      "Data added: (4901, 8550)\n",
      "2th train\n",
      "Data size: (9271, 8550) (9271,)\n",
      "Evaluate Dev\n",
      "  Accuracy 0.43478260869565216\n",
      "stall 1 times\n",
      "Predicting unlabeled data with the previous model\n",
      "Data added: (5373, 8550)\n",
      "3th train\n",
      "Data size: (14644, 8550) (14644,)\n",
      "Evaluate Dev\n",
      "  Accuracy 0.4227053140096618\n",
      "stall 2 times\n",
      "Predicting unlabeled data with the previous model\n",
      "Data added: (5187, 8550)\n",
      "4th train\n",
      "Data size: (19831, 8550) (19831,)\n",
      "Evaluate Dev\n",
      "  Accuracy 0.4178743961352657\n",
      "stall 3 times\n",
      "Predicting unlabeled data with the previous model\n",
      "Data added: (4102, 8550)\n",
      "5th train\n",
      "Data size: (23933, 8550) (23933,)\n",
      "Evaluate Dev\n",
      "  Accuracy 0.4033816425120773\n",
      "stall 4 times\n",
      "Predicting unlabeled data with the previous model\n",
      "Data added: (2930, 8550)\n",
      "6th train\n",
      "Data size: (26863, 8550) (26863,)\n",
      "Evaluate Dev\n",
      "  Accuracy 0.3961352657004831\n",
      "stall 5 times\n",
      "dev accuracy is not improving for 5 iterations. Stop.\n"
     ]
    }
   ],
   "source": [
    "print(\"Training classifier\")\n",
    "clss, accs, data_sizes = self_train(unlabeled.X, speech.trainX, speech.trainy, speech.devX, speech.devy)"
   ]
  },
  {
   "cell_type": "code",
   "execution_count": 48,
   "id": "4a601b41-d4dc-43c6-a913-e5fdea9f0dba",
   "metadata": {},
   "outputs": [
    {
     "name": "stdout",
     "output_type": "stream",
     "text": [
      "Training classifier\n",
      "Train teacher model\n",
      "Data size: (4370, 8550) (4370,)\n",
      "Evaluate Dev\n",
      "  Accuracy 0.4492753623188406\n",
      "Predicting unlabeled data with the teacher model\n",
      "(23, 8550) (23,)\n",
      "(59, 8550) (59,)\n",
      "(5, 8550) (5,)\n",
      "(20689, 8550) (20689,)\n",
      "(1999, 8550) (1999,)\n",
      "(812, 8550) (812,)\n",
      "(1268, 8550) (1268,)\n",
      "(575, 8550) (575,)\n",
      "(2, 8550) (2,)\n",
      "(3365, 8550) (3365,)\n",
      "(9787, 8550) (9787,)\n",
      "(196, 8550) (196,)\n",
      "(20, 8550) (20,)\n",
      "(39, 8550) (39,)\n",
      "(2259, 8550) (2259,)\n",
      "(122, 8550) (122,)\n",
      "(1012, 8550) (1012,)\n",
      "(646, 8550) (646,)\n",
      "(464, 8550) (464,)\n",
      "Train student model\n",
      "Data size: (47712, 8550) (47712,)\n",
      "Evaluate Dev\n",
      "  Accuracy 0.4227053140096618\n",
      "Evaluating\n",
      "  Accuracy 0.874370709382151\n",
      "  Accuracy 0.4227053140096618\n"
     ]
    },
    {
     "data": {
      "text/plain": [
       "0.4227053140096618"
      ]
     },
     "execution_count": 48,
     "metadata": {},
     "output_type": "execute_result"
    }
   ],
   "source": [
    "print(\"Training classifier\")\n",
    "student_cls, student_acc, teacher_cls, teacher_acc = student_teacher(\n",
    "    unlabeled.X, speech.trainX, speech.trainy, speech.devX, speech.devy)\n",
    "\n",
    "print(\"Evaluating\")\n",
    "evaluate(speech.trainX, speech.trainy, student_cls)\n",
    "evaluate(speech.devX, speech.devy, student_cls)"
   ]
  },
  {
   "cell_type": "code",
   "execution_count": 37,
   "id": "2dcacd1c-082f-4fc1-b39e-0cdba753a29e",
   "metadata": {},
   "outputs": [
    {
     "name": "stdout",
     "output_type": "stream",
     "text": [
      "Reading data\n",
      "-- train data\n",
      "train.tsv\n",
      "4370\n",
      "-- dev data\n",
      "dev.tsv\n",
      "414\n",
      "-- transforming data and labels\n",
      "(4370, 8951)\n",
      "Reading unlabeled data\n",
      "(43342, 8951)\n",
      "(43342, 8951)\n"
     ]
    }
   ],
   "source": [
    "print(\"Reading data\")\n",
    "tarfname = \"data/speech.tar.gz\"\n",
    "speech = read_files(tarfname, lowercase=False, tokenizer=bpe_tokenizer)\n",
    "print(speech.trainX.shape)\n",
    "\n",
    "print(\"Reading unlabeled data\")\n",
    "unlabeled = read_unlabeled(tarfname, speech)\n",
    "print(unlabeled.X.shape)"
   ]
  },
  {
   "cell_type": "code",
   "execution_count": 39,
   "id": "8bb1188a-efa1-470c-b7da-9976891d8b87",
   "metadata": {},
   "outputs": [
    {
     "name": "stdout",
     "output_type": "stream",
     "text": [
      "Training classifier\n",
      "1th train\n",
      "Data size: (4370, 8951) (4370,)\n",
      "Evaluate Dev\n",
      "  Accuracy 0.43719806763285024\n",
      "new best score\n",
      "Predicting unlabeled data with the previous model\n",
      "Data added: (6114, 8951)\n",
      "2th train\n",
      "Data size: (10484, 8951) (10484,)\n",
      "Evaluate Dev\n",
      "  Accuracy 0.45169082125603865\n",
      "new best score\n",
      "Predicting unlabeled data with the previous model\n",
      "Data added: (5846, 8951)\n",
      "3th train\n",
      "Data size: (16330, 8951) (16330,)\n",
      "Evaluate Dev\n",
      "  Accuracy 0.4396135265700483\n",
      "stall 1 times\n",
      "Predicting unlabeled data with the previous model\n",
      "Data added: (4789, 8951)\n",
      "4th train\n",
      "Data size: (21119, 8951) (21119,)\n",
      "Evaluate Dev\n",
      "  Accuracy 0.43478260869565216\n",
      "stall 2 times\n",
      "Predicting unlabeled data with the previous model\n",
      "Data added: (3366, 8951)\n",
      "5th train\n",
      "Data size: (24485, 8951) (24485,)\n",
      "Evaluate Dev\n",
      "  Accuracy 0.4251207729468599\n",
      "stall 3 times\n",
      "Predicting unlabeled data with the previous model\n",
      "Data added: (2385, 8951)\n",
      "6th train\n",
      "Data size: (26870, 8951) (26870,)\n",
      "Evaluate Dev\n",
      "  Accuracy 0.4178743961352657\n",
      "stall 4 times\n",
      "Predicting unlabeled data with the previous model\n",
      "Data added: (1580, 8951)\n",
      "7th train\n",
      "Data size: (28450, 8951) (28450,)\n",
      "Evaluate Dev\n",
      "  Accuracy 0.41545893719806765\n",
      "stall 5 times\n",
      "dev accuracy is not improving for 5 iterations. Stop.\n"
     ]
    }
   ],
   "source": [
    "print(\"Training classifier\")\n",
    "clss, accs, data_sizes = self_train(unlabeled.X, speech.trainX, speech.trainy, speech.devX, speech.devy, C=.7)"
   ]
  },
  {
   "cell_type": "code",
   "execution_count": 49,
   "id": "9a6fbee6-35c9-4cc1-afe2-5d8a108fbc4b",
   "metadata": {},
   "outputs": [
    {
     "name": "stdout",
     "output_type": "stream",
     "text": [
      "[4370, 9271, 14644, 19831, 23933, 26863]\n"
     ]
    },
    {
     "data": {
      "text/plain": [
       "[<matplotlib.lines.Line2D at 0x7f7850224970>]"
      ]
     },
     "execution_count": 49,
     "metadata": {},
     "output_type": "execute_result"
    },
    {
     "data": {
      "image/png": "[encoded data removed]",
      "text/plain": [
       "<Figure size 864x288 with 2 Axes>"
      ]
     },
     "metadata": {
      "needs_background": "light"
     },
     "output_type": "display_data"
    }
   ],
   "source": [
    "import matplotlib.pyplot as plt\n",
    "\n",
    "fig, axs = plt.subplots(1, 2, figsize=(12, 4), tight_layout=True)\n",
    "axs[0].set_title('# Iteration vs. Accuracy')\n",
    "axs[0].set_xlabel('# Iteration')\n",
    "axs[0].set_ylabel('Accuracy')\n",
    "axs[0].grid()\n",
    "axs[0].plot([i+1 for i in range(len(accs))], accs, marker='o')\n",
    "print(data_sizes)\n",
    "axs[1].set_title('# Iteration vs. Data Size')\n",
    "axs[1].set_xlabel('# Iteration')\n",
    "axs[1].set_ylabel('Data Size')\n",
    "axs[1].grid()\n",
    "axs[1].plot([i+1 for i in range(len(data_sizes))], data_sizes, marker='o')"
   ]
  },
  {
   "cell_type": "code",
   "execution_count": 11,
   "id": "f5547dea-12fa-4358-aec9-08ebbb4ba514",
   "metadata": {},
   "outputs": [
    {
     "name": "stdout",
     "output_type": "stream",
     "text": [
      "Reading data\n",
      "-- train data\n",
      "train.tsv\n",
      "4370\n",
      "-- dev data\n",
      "dev.tsv\n",
      "414\n",
      "-- transforming data and labels\n",
      "(4370, 9036)\n",
      "Reading unlabeled data\n",
      "(43342, 9036)\n",
      "(43342, 9036)\n"
     ]
    }
   ],
   "source": [
    "from nltk import word_tokenize\n",
    "print(\"Reading data\")\n",
    "tarfname = \"data/speech.tar.gz\"\n",
    "nltk_speech = read_files(tarfname, preprocessor=Lemmatizer(), tokenizer=word_tokenize)\n",
    "print(nltk_speech.trainX.shape)\n",
    "\n",
    "print(\"Reading unlabeled data\")\n",
    "nltk_unlabeled = read_unlabeled(tarfname, nltk_speech)\n",
    "print(nltk_unlabeled.X.shape)"
   ]
  },
  {
   "cell_type": "code",
   "execution_count": 14,
   "id": "d06a6098-014e-456c-8593-bf533d917d0b",
   "metadata": {},
   "outputs": [
    {
     "name": "stdout",
     "output_type": "stream",
     "text": [
      "Training classifier\n",
      "1th train\n",
      "Data size: (4370, 9036) (4370,)\n",
      "Evaluate Dev\n",
      "  Accuracy 0.45169082125603865\n",
      "new best score\n",
      "Predicting unlabeled data with the previous model\n",
      "Data added: (4754, 9036)\n",
      "2th train\n",
      "Data size: (9124, 9036) (9124,)\n",
      "Evaluate Dev\n",
      "  Accuracy 0.4444444444444444\n",
      "stall 1 times\n",
      "Predicting unlabeled data with the previous model\n",
      "Data added: (4935, 9036)\n",
      "3th train\n",
      "Data size: (14059, 9036) (14059,)\n",
      "Evaluate Dev\n",
      "  Accuracy 0.4396135265700483\n",
      "stall 2 times\n",
      "Predicting unlabeled data with the previous model\n",
      "Data added: (4289, 9036)\n",
      "4th train\n",
      "Data size: (18348, 9036) (18348,)\n",
      "Evaluate Dev\n",
      "  Accuracy 0.43478260869565216\n",
      "stall 3 times\n",
      "Predicting unlabeled data with the previous model\n",
      "Data added: (3306, 9036)\n",
      "5th train\n",
      "Data size: (21654, 9036) (21654,)\n",
      "Evaluate Dev\n",
      "  Accuracy 0.4227053140096618\n",
      "stall 4 times\n",
      "Predicting unlabeled data with the previous model\n",
      "Data added: (2408, 9036)\n",
      "6th train\n",
      "Data size: (24062, 9036) (24062,)\n",
      "Evaluate Dev\n",
      "  Accuracy 0.41545893719806765\n",
      "stall 5 times\n",
      "dev accuracy is not improving for 5 iterations. Stop.\n"
     ]
    }
   ],
   "source": [
    "print(\"Training classifier\")\n",
    "nltk_clss, nltk_accs, nltk_data_sizes = self_train(\n",
    "    nltk_unlabeled.X, nltk_speech.trainX, nltk_speech.trainy, nltk_speech.devX, nltk_speech.devy, C=0.5)"
   ]
  },
  {
   "cell_type": "code",
   "execution_count": 42,
   "id": "5bf7f1c1-8d1d-408a-96f1-c2ceb40dfa36",
   "metadata": {},
   "outputs": [
    {
     "name": "stdout",
     "output_type": "stream",
     "text": [
      "Training classifier\n",
      "Train teacher model\n",
      "Data size: (4370, 9036) (4370,)\n",
      "Evaluate Dev\n",
      "  Accuracy 0.45169082125603865\n",
      "Predicting unlabeled data with the teacher model\n",
      "(19, 9036) (19,)\n",
      "(52, 9036) (52,)\n",
      "(4, 9036) (4,)\n",
      "(21176, 9036) (21176,)\n",
      "(1948, 9036) (1948,)\n",
      "(798, 9036) (798,)\n",
      "(1221, 9036) (1221,)\n",
      "(517, 9036) (517,)\n",
      "(1, 9036) (1,)\n",
      "(3479, 9036) (3479,)\n",
      "(9483, 9036) (9483,)\n",
      "(192, 9036) (192,)\n",
      "(22, 9036) (22,)\n",
      "(31, 9036) (31,)\n",
      "(2293, 9036) (2293,)\n",
      "(123, 9036) (123,)\n",
      "(946, 9036) (946,)\n",
      "(630, 9036) (630,)\n",
      "(407, 9036) (407,)\n",
      "Train student model\n",
      "Data size: (47712, 9036) (47712,)\n",
      "Evaluate Dev\n",
      "  Accuracy 0.4323671497584541\n",
      "Evaluating\n",
      "  Accuracy 0.8649885583524027\n",
      "  Accuracy 0.4323671497584541\n"
     ]
    },
    {
     "data": {
      "text/plain": [
       "0.4323671497584541"
      ]
     },
     "execution_count": 42,
     "metadata": {},
     "output_type": "execute_result"
    }
   ],
   "source": [
    "print(\"Training classifier\")\n",
    "nltk_student_cls, nltk_student_acc, nltk_teacher_cls, nltk_teacher_acc = student_teacher(\n",
    "    nltk_unlabeled.X, nltk_speech.trainX, nltk_speech.trainy, nltk_speech.devX, nltk_speech.devy)\n",
    "\n",
    "print(\"Evaluating\")\n",
    "evaluate(nltk_speech.trainX, nltk_speech.trainy, nltk_student_cls)\n",
    "evaluate(nltk_speech.devX, nltk_speech.devy, nltk_student_cls)"
   ]
  },
  {
   "cell_type": "code",
   "execution_count": 36,
   "id": "43194f4e-5006-487c-b9c2-b75700171d80",
   "metadata": {},
   "outputs": [
    {
     "name": "stdout",
     "output_type": "stream",
     "text": [
      "[4370, 9119, 13917, 18257, 21669, 24086, 25839]\n"
     ]
    },
    {
     "data": {
      "text/plain": [
       "[<matplotlib.lines.Line2D at 0x7f78a24a2130>]"
      ]
     },
     "execution_count": 36,
     "metadata": {},
     "output_type": "execute_result"
    },
    {
     "data": {
      "image/png": "[encoded data removed]",
      "text/plain": [
       "<Figure size 864x288 with 2 Axes>"
      ]
     },
     "metadata": {
      "needs_background": "light"
     },
     "output_type": "display_data"
    }
   ],
   "source": [
    "import matplotlib.pyplot as plt\n",
    "\n",
    "fig, axs = plt.subplots(1, 2, figsize=(12, 4), tight_layout=True)\n",
    "axs[0].set_title('# Iteration vs. Accuracy')\n",
    "axs[0].set_xlabel('# Iteration')\n",
    "axs[0].set_ylabel('Accuracy')\n",
    "axs[0].grid()\n",
    "axs[0].plot([i+1 for i in range(len(nltk_accs))], nltk_accs, marker='o')\n",
    "print(nltk_data_sizes)\n",
    "axs[1].set_title('# Iteration vs. Data Size')\n",
    "axs[1].set_xlabel('# Iteration')\n",
    "axs[1].set_ylabel('Data Size')\n",
    "axs[1].grid()\n",
    "axs[1].plot([i+1 for i in range(len(nltk_data_sizes))], nltk_data_sizes, marker='o')"
   ]
  },
  {
   "cell_type": "code",
   "execution_count": 50,
   "id": "fb419fc0-365f-41db-8d6b-7bfb94f87134",
   "metadata": {},
   "outputs": [
    {
     "data": {
      "text/plain": [
       "[<matplotlib.lines.Line2D at 0x7f7883abbbb0>]"
      ]
     },
     "execution_count": 50,
     "metadata": {},
     "output_type": "execute_result"
    },
    {
     "data": {
      "image/png": "[encoded data removed]",
      "text/plain": [
       "<Figure size 864x288 with 4 Axes>"
      ]
     },
     "metadata": {
      "needs_background": "light"
     },
     "output_type": "display_data"
    }
   ],
   "source": [
    "import matplotlib.pyplot as plt\n",
    "\n",
    "fig, axs = plt.subplots(1, 4, figsize=(12, 4), tight_layout=True)\n",
    "axs[0].set_title('# Iter vs. Acc (BPE)')\n",
    "axs[0].set_xlabel('# Iteration')\n",
    "axs[0].set_ylabel('Accuracy')\n",
    "axs[0].grid()\n",
    "axs[0].plot([i+1 for i in range(len(accs))], accs, marker='o')\n",
    "axs[1].set_title('# Iter vs. # Data (BPE)')\n",
    "axs[1].set_xlabel('# Iteration')\n",
    "axs[1].set_ylabel('Data Size')\n",
    "axs[1].grid()\n",
    "axs[1].plot([i+1 for i in range(len(data_sizes))], data_sizes, marker='o')\n",
    "\n",
    "\n",
    "axs[2].set_title('# Iter vs. Acc (NLTK)')\n",
    "axs[2].set_xlabel('# Iteration')\n",
    "axs[2].set_ylabel('Accuracy')\n",
    "axs[2].grid()\n",
    "axs[2].plot([i+1 for i in range(len(nltk_accs))], nltk_accs, marker='o')\n",
    "axs[3].set_title('# Iter vs. # Data (NLTK)')\n",
    "axs[3].set_xlabel('# Iteration')\n",
    "axs[3].set_ylabel('Data Size')\n",
    "axs[3].grid()\n",
    "axs[3].plot([i+1 for i in range(len(nltk_data_sizes))], nltk_data_sizes, marker='o')"
   ]
  },
  {
   "cell_type": "code",
   "execution_count": null,
   "id": "590b4f65-d61c-44a8-a972-26d11d08cc0d",
   "metadata": {},
   "outputs": [],
   "source": []
  }
 ],
 "metadata": {
  "kernelspec": {
   "display_name": "Python 3",
   "language": "python",
   "name": "python3"
  },
  "language_info": {
   "codemirror_mode": {
    "name": "ipython",
    "version": 3
   },
   "file_extension": ".py",
   "mimetype": "text/x-python",
   "name": "python",
   "nbconvert_exporter": "python",
   "pygments_lexer": "ipython3",
   "version": "3.9.5"
  }
 },
 "nbformat": 4,
 "nbformat_minor": 5
}
