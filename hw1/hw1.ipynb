{
 "cells": [
  {
   "cell_type": "markdown",
   "id": "7f043973-7626-4ac7-a8fe-fe5934fe701f",
   "metadata": {},
   "source": [
    "# 1. *Supervised*:Improve the Basic Classifier (25 points)"
   ]
  },
  {
   "cell_type": "markdown",
   "id": "2d4f991e-8a26-4f8d-9037-4f6ef8e93fb0",
   "metadata": {},
   "source": [
    "Improve the supervised text classifier by *hyper-parameter tuning*, using different *tokenization*, and adding *features*."
   ]
  },
  {
   "cell_type": "markdown",
   "id": "47a4689e-22a1-4a92-8267-f07a59a5989e",
   "metadata": {},
   "source": [
    "## 1.0. Default Logistic Regression"
   ]
  },
  {
   "cell_type": "code",
   "execution_count": 2,
   "id": "417a1dac-537d-43fe-91de-02f054060664",
   "metadata": {},
   "outputs": [
    {
     "name": "stdout",
     "output_type": "stream",
     "text": [
      "Reading data\n",
      "-- train data\n",
      "train.tsv\n",
      "4370\n",
      "-- dev data\n",
      "dev.tsv\n",
      "414\n",
      "-- transforming data and labels\n",
      "Training classifier\n",
      "Evaluating\n",
      "  Accuracy 0.9926773455377574\n",
      "  Accuracy 0.41304347826086957\n"
     ]
    },
    {
     "name": "stderr",
     "output_type": "stream",
     "text": [
      "C:\\Users\\schan\\miniconda3\\lib\\site-packages\\sklearn\\linear_model\\_logistic.py:814: ConvergenceWarning: lbfgs failed to converge (status=1):\n",
      "STOP: TOTAL NO. of ITERATIONS REACHED LIMIT.\n",
      "\n",
      "Increase the number of iterations (max_iter) or scale the data as shown in:\n",
      "    https://scikit-learn.org/stable/modules/preprocessing.html\n",
      "Please also refer to the documentation for alternative solver options:\n",
      "    https://scikit-learn.org/stable/modules/linear_model.html#logistic-regression\n",
      "  n_iter_i = _check_optimize_result(\n"
     ]
    }
   ],
   "source": [
    "from speech import *\n",
    "\n",
    "print(\"Reading data\")\n",
    "tarfname = \"data/speech.tar.gz\"\n",
    "speech = read_files(tarfname)\n",
    "print(\"Training classifier\")\n",
    "import classify\n",
    "cls = classify.train_classifier(speech.trainX, speech.trainy)\n",
    "print(\"Evaluating\")\n",
    "classify.evaluate(speech.trainX, speech.trainy, cls)\n",
    "classify.evaluate(speech.devX, speech.devy, cls)"
   ]
  },
  {
   "cell_type": "markdown",
   "id": "e4057545-875f-4dd9-b2ee-c8dadd3ead38",
   "metadata": {},
   "source": [
    "## 1.1 Hyper-parameter search"
   ]
  },
  {
   "cell_type": "code",
   "execution_count": null,
   "id": "bd821c28-184a-4e76-926e-e6c900995fa7",
   "metadata": {},
   "outputs": [],
   "source": []
  },
  {
   "cell_type": "markdown",
   "id": "9ee0216e-1928-4858-855e-5a49accbf9e1",
   "metadata": {},
   "source": [
    "## 1.2 Tokenization"
   ]
  },
  {
   "cell_type": "code",
   "execution_count": null,
   "id": "18b76831-e1b4-4dd0-8751-a4cfe5825f94",
   "metadata": {},
   "outputs": [],
   "source": []
  },
  {
   "cell_type": "markdown",
   "id": "efbdc7d5-2e2b-4df3-a149-4a4c043e4a10",
   "metadata": {},
   "source": [
    "## 1.3. Adding Features"
   ]
  },
  {
   "cell_type": "code",
   "execution_count": null,
   "id": "47ce0153-31df-448d-8eab-efd44d13ba6b",
   "metadata": {},
   "outputs": [],
   "source": []
  }
 ],
 "metadata": {
  "kernelspec": {
   "display_name": "Python 3 (ipykernel)",
   "language": "python",
   "name": "python3"
  },
  "language_info": {
   "codemirror_mode": {
    "name": "ipython",
    "version": 3
   },
   "file_extension": ".py",
   "mimetype": "text/x-python",
   "name": "python",
   "nbconvert_exporter": "python",
   "pygments_lexer": "ipython3",
   "version": "3.9.5"
  }
 },
 "nbformat": 4,
 "nbformat_minor": 5
}
