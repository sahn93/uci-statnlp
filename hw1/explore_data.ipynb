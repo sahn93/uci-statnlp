{
 "cells": [
  {
   "cell_type": "code",
   "execution_count": 1,
   "id": "479d0e3e-c8e9-4899-a893-eab897051e48",
   "metadata": {},
   "outputs": [],
   "source": [
    "from speech import *\n",
    "from classify import evaluate"
   ]
  },
  {
   "cell_type": "code",
   "execution_count": 7,
   "id": "8842d6f4-4f8f-4d5d-a13c-2541091e582c",
   "metadata": {},
   "outputs": [
    {
     "name": "stdout",
     "output_type": "stream",
     "text": [
      "Reading data\n",
      "-- train data\n",
      "train.tsv\n",
      "4370\n",
      "-- dev data\n",
      "dev.tsv\n",
      "414\n",
      "-- transforming data and labels\n"
     ]
    }
   ],
   "source": [
    "print(\"Reading data\")\n",
    "tarfname = \"data/speech.tar.gz\"\n",
    "speech = read_files(tarfname)"
   ]
  },
  {
   "cell_type": "code",
   "execution_count": 21,
   "id": "4dc4884c-4592-4e71-9182-88f6b7f552f5",
   "metadata": {},
   "outputs": [
    {
     "data": {
      "image/png": "[encoded data removed]",
      "text/plain": [
       "<Figure size 432x288 with 1 Axes>"
      ]
     },
     "metadata": {
      "needs_background": "light"
     },
     "output_type": "display_data"
    }
   ],
   "source": [
    "import numpy as np\n",
    "import matplotlib.pyplot as plt\n",
    "\n",
    "bins = np.unique(speech.trainy)\n",
    "plt.hist(speech.trainy, bins=bins-.5, edgecolor='black')\n",
    "plt.xticks(bins)\n",
    "plt.grid(axis='y')\n",
    "plt.title(\"Histogram of the training set labels\")\n",
    "plt.show()"
   ]
  },
  {
   "cell_type": "markdown",
   "id": "28c3484f-a53f-4d40-8257-24908df4bfb2",
   "metadata": {},
   "source": [
    "# How to handle imbalanced dataset\n",
    "\n",
    "https://towardsdatascience.com/how-i-handled-imbalanced-text-data-ba9b757ab1d8\n",
    "\n",
    "1. Oversampling: Randomly replicate minority class instances\n",
    "2. Data Augmentation: "
   ]
  },
  {
   "cell_type": "code",
   "execution_count": null,
   "id": "dd0b6572-082f-4f7e-abb4-0d15163a8c42",
   "metadata": {},
   "outputs": [],
   "source": []
  }
 ],
 "metadata": {
  "kernelspec": {
   "display_name": "Python 3 (ipykernel)",
   "language": "python",
   "name": "python3"
  },
  "language_info": {
   "codemirror_mode": {
    "name": "ipython",
    "version": 3
   },
   "file_extension": ".py",
   "mimetype": "text/x-python",
   "name": "python",
   "nbconvert_exporter": "python",
   "pygments_lexer": "ipython3",
   "version": "3.9.5"
  }
 },
 "nbformat": 4,
 "nbformat_minor": 5
}
