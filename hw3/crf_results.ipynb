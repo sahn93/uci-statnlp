{
 "cells": [
  {
   "cell_type": "code",
   "execution_count": 1,
   "id": "20180cf9-0ad7-4757-9fe3-9f228b817912",
   "metadata": {},
   "outputs": [],
   "source": [
    "import json\n",
    "import glob\n",
    "\n",
    "dev_accuracies = {}\n",
    "test_accuracies = {}\n",
    "for task in [\"ner\", \"pos\"]:\n",
    "    base_name = f\"neural_crf_{task}\"\n",
    "    dev_accuracies[task] = {}\n",
    "    test_accuracies[task] = {}\n",
    "\n",
    "    for f in glob.glob(f\"./model/{base_name}*\"):\n",
    "        dev = json.load(open(f\"{f}/best_metrics.json\"))\n",
    "        test = json.load(open(f\"{f}/test_scores.json\"))\n",
    "        dev_accuracies[task][f] = dev[\"validation_accuracy\"]\n",
    "        test_accuracies[task][f] = test[\"accuracy\"]"
   ]
  },
  {
   "cell_type": "code",
   "execution_count": 2,
   "id": "244f39ad-dae3-4639-8261-18c7fb7e1f16",
   "metadata": {},
   "outputs": [
    {
     "name": "stdout",
     "output_type": "stream",
     "text": [
      "dev ./model/neural_crf_pos 0.7463042441583214 0.7973295183595612 0.05102527420123981\n",
      "test ./model/neural_crf_pos 0.7427149964463398 0.8057924662402275 0.06307746979388773\n"
     ]
    }
   ],
   "source": [
    "task=\"pos\"\n",
    "for model in dev_accuracies[task].keys():\n",
    "    if \"h\" not in model:\n",
    "        if model[-5:] != \"GloVe\":\n",
    "            dev_acc = dev_accuracies[task][model]\n",
    "            dev_acc_with_glove = dev_accuracies[task][model+\"_GloVe\"]\n",
    "            print(\"dev\", model, dev_acc, dev_acc_with_glove, dev_acc_with_glove - dev_acc)\n",
    "            test_acc = test_accuracies[task][model]\n",
    "            test_acc_with_glove = test_accuracies[task][model+\"_GloVe\"]\n",
    "            print(\"test\", model, test_acc, test_acc_with_glove, test_acc_with_glove - test_acc)"
   ]
  },
  {
   "cell_type": "code",
   "execution_count": 4,
   "id": "01c6a5d9-e028-4e9a-8378-61623eceab4d",
   "metadata": {},
   "outputs": [
    {
     "name": "stdout",
     "output_type": "stream",
     "text": [
      "pos w/o GloVe ./model/neural_crf_pos_h30_l2 0.7830233667143538 0.7796730632551528\n"
     ]
    }
   ],
   "source": [
    "task=\"pos\"\n",
    "for model in dev_accuracies[task].keys():\n",
    "    if 'h30_l2' in model and \"GloVe\" not in model:\n",
    "        dev_acc = dev_accuracies[task][model]\n",
    "        test_acc = test_accuracies[task][model]\n",
    "        print(f\"{task} w/o GloVe\", model, dev_acc, test_acc)"
   ]
  },
  {
   "cell_type": "code",
   "execution_count": 6,
   "id": "d02bf3b7-36b8-468c-b66e-2d1fedd4b038",
   "metadata": {},
   "outputs": [
    {
     "name": "stdout",
     "output_type": "stream",
     "text": [
      "pos w/ GloVe ./model/neural_crf_pos_h25_l1_GloVe 0.8521697663328565 0.8541222459132907\n"
     ]
    }
   ],
   "source": [
    "task=\"pos\"\n",
    "for model in dev_accuracies[task].keys():\n",
    "    if 'h25_l1' in model and \"GloVe\" in model:\n",
    "        dev_acc = dev_accuracies[task][model]\n",
    "        test_acc = test_accuracies[task][model]\n",
    "        print(f\"{task} w/ GloVe\", model, dev_acc, test_acc)"
   ]
  },
  {
   "cell_type": "code",
   "execution_count": 7,
   "id": "346091cf-e879-4823-b101-ab913c8243b1",
   "metadata": {},
   "outputs": [
    {
     "name": "stdout",
     "output_type": "stream",
     "text": [
      "dev ./model/neural_crf_ner 0.9488586861822618 0.9445896497647673 -0.004269036417494432\n",
      "test ./model/neural_crf_ner 0.9031762460782095 0.8847721318368535 -0.018404114241355907\n"
     ]
    }
   ],
   "source": [
    "task=\"ner\"\n",
    "for model in dev_accuracies[task].keys():\n",
    "    if \"h\" not in model:\n",
    "        if model[-5:] != \"GloVe\":\n",
    "            dev_acc = dev_accuracies[task][model]\n",
    "            dev_acc_with_glove = dev_accuracies[task][model+\"_GloVe\"]\n",
    "            print(\"dev\", model, dev_acc, dev_acc_with_glove, dev_acc_with_glove - dev_acc)\n",
    "            test_acc = test_accuracies[task][model]\n",
    "            test_acc_with_glove = test_accuracies[task][model+\"_GloVe\"]\n",
    "            print(\"test\", model, test_acc, test_acc_with_glove, test_acc_with_glove - test_acc)"
   ]
  },
  {
   "cell_type": "code",
   "execution_count": 9,
   "id": "0411f37f-d99c-4077-a7ee-7ff2bc823344",
   "metadata": {},
   "outputs": [
    {
     "name": "stdout",
     "output_type": "stream",
     "text": [
      "ner w/o GloVe ./model/neural_crf_ner_h25_l1 0.9474647151071616 0.9031762460782095\n"
     ]
    }
   ],
   "source": [
    "task=\"ner\"\n",
    "for model in dev_accuracies[task].keys():\n",
    "    if 'h25_l1' in model and \"GloVe\" not in model:\n",
    "        dev_acc = dev_accuracies[task][model]\n",
    "        test_acc = test_accuracies[task][model]\n",
    "        print(f\"{task} w/o GloVe\", model, dev_acc, test_acc)"
   ]
  },
  {
   "cell_type": "code",
   "execution_count": 11,
   "id": "44a6e713-68c7-4131-b4a6-efd38fd99fc9",
   "metadata": {},
   "outputs": [
    {
     "name": "stdout",
     "output_type": "stream",
     "text": [
      "ner w/ GloVe ./model/neural_crf_ner_h20_l1_GloVe 0.9526049834465935 0.8976776530711259\n"
     ]
    }
   ],
   "source": [
    "task=\"ner\"\n",
    "for model in dev_accuracies[task].keys():\n",
    "    if 'h20_l1' in model and \"GloVe\" in model:\n",
    "        dev_acc = dev_accuracies[task][model]\n",
    "        test_acc = test_accuracies[task][model]\n",
    "        print(f\"{task} w/ GloVe\", model, dev_acc, test_acc)"
   ]
  },
  {
   "cell_type": "markdown",
   "id": "bc2b3bf6-63de-400c-9082-263b1d5d8fe9",
   "metadata": {},
   "source": [
    "# Per-tag scores which have changed the most"
   ]
  },
  {
   "cell_type": "code",
   "execution_count": 12,
   "id": "14161fde-1eac-4a65-8a47-29f897f48cc6",
   "metadata": {},
   "outputs": [
    {
     "data": {
      "text/plain": [
       "[(-0.01754385964912286, 0.8596491228070176, 0.8421052631578947, 'PRT'),\n",
       " (-0.0066225165562914245, 0.9205298013245033, 0.9139072847682119, 'ADP'),\n",
       " (0, 0, 0, '<pad>'),\n",
       " (0.0, 0.9230769230769231, 0.9230769230769231, 'DET'),\n",
       " (0.0, 0.9285714285714286, 0.9285714285714286, 'CONJ'),\n",
       " (0.005208333333333259, 0.9427083333333334, 0.9479166666666666, 'PRON'),\n",
       " (0.028112449799196804, 0.927710843373494, 0.9558232931726908, '.'),\n",
       " (0.10504201680672276, 0.7016806722689075, 0.8067226890756303, 'NOUN'),\n",
       " (0.13953488372093015, 0.5813953488372093, 0.7209302325581395, 'ADV'),\n",
       " (0.16991643454038996, 0.6880222841225627, 0.8579387186629527, 'VERB'),\n",
       " (0.22222222222222215, 0.37373737373737376, 0.5959595959595959, 'ADJ'),\n",
       " (0.2793296089385475, 0.5698324022346368, 0.8491620111731844, 'X'),\n",
       " (0.4411764705882352, 0.3235294117647059, 0.7647058823529411, 'NUM')]"
      ]
     },
     "execution_count": 12,
     "metadata": {},
     "output_type": "execute_result"
    }
   ],
   "source": [
    "import json\n",
    "import glob\n",
    "\n",
    "task=\"pos\"\n",
    "\n",
    "orig = f\"./model/neural_crf_{task}\"\n",
    "best = f\"{orig}_h25_l1_GloVe\"\n",
    "\n",
    "orig_dev = json.load(open(f\"{orig}/best_metrics.json\"))\n",
    "best_dev = json.load(open(f\"{best}/best_metrics.json\"))\n",
    "\n",
    "diff = []\n",
    "for k in orig_dev[\"validation_accuracy_per_label\"].keys():\n",
    "    orig = orig_dev[\"validation_accuracy_per_label\"][k]\n",
    "    best = best_dev[\"validation_accuracy_per_label\"][k]\n",
    "    diff.append((best-orig, orig, best, k))\n",
    "\n",
    "diff.sort()\n",
    "diff"
   ]
  },
  {
   "cell_type": "code",
   "execution_count": 15,
   "id": "b0ca0847-e5b1-43c9-bd4e-567e4b90e535",
   "metadata": {},
   "outputs": [
    {
     "data": {
      "text/plain": [
       "[(-0.07142857142857142, 0.07142857142857142, 0.0, 'B-facility'),\n",
       " (-0.047619047619047616, 0.09523809523809523, 0.047619047619047616, 'B-other'),\n",
       " (-0.012710693561757469, 0.9956709956709957, 0.9829603021092382, 'O'),\n",
       " (-0.012345679012345678, 0.04938271604938271, 0.037037037037037035, 'I-other'),\n",
       " (0, 0, 0, '<pad>'),\n",
       " (0.0, 0.0, 0.0, 'B-movie'),\n",
       " (0.0, 0.0, 0.0, 'B-musicartist'),\n",
       " (0.0, 0.0, 0.0, 'B-tvshow'),\n",
       " (0.0, 0.0, 0.0, 'I-company'),\n",
       " (0.0, 0.0, 0.0, 'I-movie'),\n",
       " (0.0, 0.0, 0.0, 'I-musicartist'),\n",
       " (0.0, 0.0, 0.0, 'I-product'),\n",
       " (0.0, 0.0, 0.0, 'I-sportsteam'),\n",
       " (0.0, 0.0, 0.0, 'I-tvshow'),\n",
       " (0.0, 0.13793103448275862, 0.13793103448275862, 'I-facility'),\n",
       " (0.07142857142857142, 0.0, 0.07142857142857142, 'I-geo-loc'),\n",
       " (0.1111111111111111, 0.3055555555555556, 0.4166666666666667, 'B-company'),\n",
       " (0.15789473684210525, 0.05263157894736842, 0.21052631578947367, 'B-product'),\n",
       " (0.18181818181818182, 0.0, 0.18181818181818182, 'B-sportsteam'),\n",
       " (0.19480519480519481, 0.15584415584415584, 0.35064935064935066, 'B-geo-loc'),\n",
       " (0.360655737704918, 0.13114754098360656, 0.4918032786885246, 'I-person'),\n",
       " (0.4444444444444444, 0.3055555555555556, 0.75, 'B-person')]"
      ]
     },
     "execution_count": 15,
     "metadata": {},
     "output_type": "execute_result"
    }
   ],
   "source": [
    "import json\n",
    "import glob\n",
    "\n",
    "task=\"ner\"\n",
    "\n",
    "orig = f\"./model/neural_crf_{task}\"\n",
    "# best = f\"{orig}_h20_l1_GloVe\"\n",
    "best = f\"{orig}_GloVe\"\n",
    "\n",
    "orig_dev = json.load(open(f\"{orig}/best_metrics.json\"))\n",
    "best_dev = json.load(open(f\"{best}/best_metrics.json\"))\n",
    "\n",
    "diff = []\n",
    "for k in orig_dev[\"validation_accuracy_per_label\"].keys():\n",
    "    orig = orig_dev[\"validation_accuracy_per_label\"][k]\n",
    "    best = best_dev[\"validation_accuracy_per_label\"][k]\n",
    "    diff.append((best-orig, orig, best, k))\n",
    "diff.sort()\n",
    "diff"
   ]
  },
  {
   "cell_type": "code",
   "execution_count": null,
   "id": "c9276770-a0d1-4fd9-a021-dc704faa7bcb",
   "metadata": {},
   "outputs": [],
   "source": []
  }
 ],
 "metadata": {
  "kernelspec": {
   "display_name": "Python 3 (ipykernel)",
   "language": "python",
   "name": "python3"
  },
  "language_info": {
   "codemirror_mode": {
    "name": "ipython",
    "version": 3
   },
   "file_extension": ".py",
   "mimetype": "text/x-python",
   "name": "python",
   "nbconvert_exporter": "python",
   "pygments_lexer": "ipython3",
   "version": "3.9.5"
  }
 },
 "nbformat": 4,
 "nbformat_minor": 5
}
