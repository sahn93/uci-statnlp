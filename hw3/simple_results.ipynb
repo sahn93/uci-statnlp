{
 "cells": [
  {
   "cell_type": "code",
   "execution_count": 37,
   "id": "20180cf9-0ad7-4757-9fe3-9f228b817912",
   "metadata": {},
   "outputs": [],
   "source": [
    "import json\n",
    "import glob\n",
    "\n",
    "dev_accuracies = {}\n",
    "test_accuracies = {}\n",
    "for task in [\"ner\", \"pos\"]:\n",
    "    base_name = f\"simple_tagger_{task}\"\n",
    "    dev_accuracies[task] = {}\n",
    "    test_accuracies[task] = {}\n",
    "\n",
    "    for f in glob.glob(f\"./model/{base_name}*\"):\n",
    "        dev = json.load(open(f\"{f}/best_metrics.json\"))\n",
    "        test = json.load(open(f\"{f}/test_scores.json\"))\n",
    "        dev_accuracies[task][f] = dev[\"validation_accuracy\"]\n",
    "        test_accuracies[task][f] = test[\"accuracy\"]"
   ]
  },
  {
   "cell_type": "code",
   "execution_count": 44,
   "id": "244f39ad-dae3-4639-8261-18c7fb7e1f16",
   "metadata": {},
   "outputs": [
    {
     "name": "stdout",
     "output_type": "stream",
     "text": [
      "dev ./model/simple_tagger_pos 0.6413924654268002 0.7835002384358608 0.14210777300906063\n",
      "test ./model/simple_tagger_pos 0.6329068941009239 0.8015280739161336 0.16862117981520963\n"
     ]
    }
   ],
   "source": [
    "task=\"pos\"\n",
    "for model in dev_accuracies[task].keys():\n",
    "    if \"h\" not in model:\n",
    "        if model[-5:] != \"GloVe\":\n",
    "            dev_acc = dev_accuracies[task][model]\n",
    "            dev_acc_with_glove = dev_accuracies[task][model+\"_GloVe\"]\n",
    "            print(\"dev\", model, dev_acc, dev_acc_with_glove, dev_acc_with_glove - dev_acc)\n",
    "            test_acc = test_accuracies[task][model]\n",
    "            test_acc_with_glove = test_accuracies[task][model+\"_GloVe\"]\n",
    "            print(\"test\", model, test_acc, test_acc_with_glove, test_acc_with_glove - test_acc)"
   ]
  },
  {
   "cell_type": "code",
   "execution_count": 72,
   "id": "01c6a5d9-e028-4e9a-8378-61623eceab4d",
   "metadata": {},
   "outputs": [
    {
     "name": "stdout",
     "output_type": "stream",
     "text": [
      "pos w/o GloVe ./model/simple_tagger_pos_h30_l3 0.7858845970433953 0.7937100213219617\n"
     ]
    }
   ],
   "source": [
    "task=\"pos\"\n",
    "for model in dev_accuracies[task].keys():\n",
    "    if 'h30_l3' in model and \"GloVe\" not in model:\n",
    "        dev_acc = dev_accuracies[task][model]\n",
    "        test_acc = test_accuracies[task][model]\n",
    "        print(f\"{task} w/o GloVe\", model, dev_acc, test_acc)"
   ]
  },
  {
   "cell_type": "code",
   "execution_count": 76,
   "id": "d02bf3b7-36b8-468c-b66e-2d1fedd4b038",
   "metadata": {},
   "outputs": [
    {
     "name": "stdout",
     "output_type": "stream",
     "text": [
      "pos w/ GloVe ./model/simple_tagger_pos_h25_l1_GloVe 0.8478779208392943 0.8557213930348259\n"
     ]
    }
   ],
   "source": [
    "task=\"pos\"\n",
    "for model in dev_accuracies[task].keys():\n",
    "    if 'h25_l1' in model and \"GloVe\" in model:\n",
    "        dev_acc = dev_accuracies[task][model]\n",
    "        test_acc = test_accuracies[task][model]\n",
    "        print(f\"{task} w/ GloVe\", model, dev_acc, test_acc)"
   ]
  },
  {
   "cell_type": "code",
   "execution_count": 56,
   "id": "346091cf-e879-4823-b101-ab913c8243b1",
   "metadata": {},
   "outputs": [
    {
     "name": "stdout",
     "output_type": "stream",
     "text": [
      "dev ./model/simple_tagger_ner 0.9444154033803799 0.9346576058546785 -0.009757797525701384\n",
      "test ./model/simple_tagger_ner 0.8985186143545623 0.8660445709480221 -0.03247404340654014\n"
     ]
    }
   ],
   "source": [
    "task=\"ner\"\n",
    "for model in dev_accuracies[task].keys():\n",
    "    if \"h\" not in model:\n",
    "        if model[-5:] != \"GloVe\":\n",
    "            dev_acc = dev_accuracies[task][model]\n",
    "            dev_acc_with_glove = dev_accuracies[task][model+\"_GloVe\"]\n",
    "            print(\"dev\", model, dev_acc, dev_acc_with_glove, dev_acc_with_glove - dev_acc)\n",
    "            test_acc = test_accuracies[task][model]\n",
    "            test_acc_with_glove = test_accuracies[task][model+\"_GloVe\"]\n",
    "            print(\"test\", model, test_acc, test_acc_with_glove, test_acc_with_glove - test_acc)"
   ]
  },
  {
   "cell_type": "code",
   "execution_count": 71,
   "id": "0411f37f-d99c-4077-a7ee-7ff2bc823344",
   "metadata": {},
   "outputs": [
    {
     "name": "stdout",
     "output_type": "stream",
     "text": [
      "ner w/o GloVe ./model/simple_tagger_ner_h25_l1 0.9465063599930301 0.9037422777112916\n"
     ]
    }
   ],
   "source": [
    "task=\"ner\"\n",
    "for model in dev_accuracies[task].keys():\n",
    "    if 'h25_l1' in model and \"GloVe\" not in model:\n",
    "        dev_acc = dev_accuracies[task][model]\n",
    "        test_acc = test_accuracies[task][model]\n",
    "        print(f\"{task} w/o GloVe\", model, dev_acc, test_acc)"
   ]
  },
  {
   "cell_type": "code",
   "execution_count": 74,
   "id": "44a6e713-68c7-4131-b4a6-efd38fd99fc9",
   "metadata": {},
   "outputs": [
    {
     "name": "stdout",
     "output_type": "stream",
     "text": [
      "ner w/ GloVe ./model/simple_tagger_ner_h30_l1_GloVe 0.9535633385607248 0.9029013164278552\n"
     ]
    }
   ],
   "source": [
    "task=\"ner\"\n",
    "for model in dev_accuracies[task].keys():\n",
    "    if 'h30_l1' in model and \"GloVe\" in model:\n",
    "        dev_acc = dev_accuracies[task][model]\n",
    "        test_acc = test_accuracies[task][model]\n",
    "        print(f\"{task} w/ GloVe\", model, dev_acc, test_acc)"
   ]
  },
  {
   "cell_type": "markdown",
   "id": "bc2b3bf6-63de-400c-9082-263b1d5d8fe9",
   "metadata": {},
   "source": [
    "# Per-tag scores which have changed the most"
   ]
  },
  {
   "cell_type": "code",
   "execution_count": 94,
   "id": "14161fde-1eac-4a65-8a47-29f897f48cc6",
   "metadata": {},
   "outputs": [
    {
     "data": {
      "text/plain": [
       "[(-0.019867549668874163, 0.9337748344370861, 0.9139072847682119, 'ADP'),\n",
       " (-0.01754385964912275, 0.8771929824561403, 0.8596491228070176, 'PRT'),\n",
       " (0, 0, 0, '<pad>'),\n",
       " (0.0, 0.9285714285714286, 0.9285714285714286, 'CONJ'),\n",
       " (0.005208333333333259, 0.9427083333333334, 0.9479166666666666, 'PRON'),\n",
       " (0.023076923076923106, 0.9, 0.9230769230769231, 'DET'),\n",
       " (0.02409638554216864, 0.927710843373494, 0.9518072289156626, '.'),\n",
       " (0.14728682170542629, 0.5891472868217055, 0.7364341085271318, 'ADV'),\n",
       " (0.2228412256267409, 0.637883008356546, 0.8607242339832869, 'VERB'),\n",
       " (0.23232323232323226, 0.36363636363636365, 0.5959595959595959, 'ADJ'),\n",
       " (0.4117647058823529, 0.3760504201680672, 0.7878151260504201, 'NOUN'),\n",
       " (0.4705882352941176, 0.29411764705882354, 0.7647058823529411, 'NUM'),\n",
       " (0.5195530726256983, 0.3128491620111732, 0.8324022346368715, 'X')]"
      ]
     },
     "execution_count": 94,
     "metadata": {},
     "output_type": "execute_result"
    }
   ],
   "source": [
    "import json\n",
    "import glob\n",
    "\n",
    "task=\"pos\"\n",
    "\n",
    "orig = f\"./model/simple_tagger_{task}\"\n",
    "best = f\"{orig}_h25_l1_GloVe\"\n",
    "\n",
    "orig_dev = json.load(open(f\"{orig}/best_metrics.json\"))\n",
    "best_dev = json.load(open(f\"{best}/best_metrics.json\"))\n",
    "\n",
    "diff = []\n",
    "for k in orig_dev[\"validation_accuracy_per_label\"].keys():\n",
    "    orig = orig_dev[\"validation_accuracy_per_label\"][k]\n",
    "    best = best_dev[\"validation_accuracy_per_label\"][k]\n",
    "    diff.append((best-orig, orig, best, k))\n",
    "\n",
    "diff.sort()\n",
    "diff"
   ]
  },
  {
   "cell_type": "code",
   "execution_count": 109,
   "id": "b0ca0847-e5b1-43c9-bd4e-567e4b90e535",
   "metadata": {},
   "outputs": [
    {
     "data": {
      "text/plain": [
       "[(-0.018144975591784074, 0.9907893524914801, 0.9726443768996961, 'O'),\n",
       " (-0.015873015873015872, 0.07936507936507936, 0.06349206349206349, 'B-other'),\n",
       " (0, 0, 0, '<pad>'),\n",
       " (0.0, 0.0, 0.0, 'B-facility'),\n",
       " (0.0, 0.0, 0.0, 'B-movie'),\n",
       " (0.0, 0.0, 0.0, 'B-tvshow'),\n",
       " (0.0, 0.0, 0.0, 'I-company'),\n",
       " (0.0, 0.0, 0.0, 'I-geo-loc'),\n",
       " (0.0, 0.0, 0.0, 'I-movie'),\n",
       " (0.0, 0.0, 0.0, 'I-musicartist'),\n",
       " (0.0, 0.0, 0.0, 'I-product'),\n",
       " (0.0, 0.0, 0.0, 'I-sportsteam'),\n",
       " (0.0, 0.0, 0.0, 'I-tvshow'),\n",
       " (0.0, 0.07692307692307693, 0.07692307692307693, 'B-musicartist'),\n",
       " (0.03448275862068967, 0.13793103448275862, 0.1724137931034483, 'I-facility'),\n",
       " (0.037037037037037035, 0.024691358024691357, 0.06172839506172839, 'I-other'),\n",
       " (0.04918032786885246, 0.13114754098360656, 0.18032786885245902, 'I-person'),\n",
       " (0.05263157894736842, 0.21052631578947367, 0.2631578947368421, 'B-product'),\n",
       " (0.08333333333333331, 0.3611111111111111, 0.4444444444444444, 'B-company'),\n",
       " (0.18181818181818182, 0.0, 0.18181818181818182, 'B-sportsteam'),\n",
       " (0.3896103896103896, 0.16883116883116883, 0.5584415584415584, 'B-geo-loc'),\n",
       " (0.39814814814814814, 0.3055555555555556, 0.7037037037037037, 'B-person')]"
      ]
     },
     "execution_count": 109,
     "metadata": {},
     "output_type": "execute_result"
    }
   ],
   "source": [
    "import json\n",
    "import glob\n",
    "\n",
    "task=\"ner\"\n",
    "\n",
    "orig = f\"./model/simple_tagger_{task}\"\n",
    "# best = f\"{orig}_h25_l1\"\n",
    "# best = f\"{orig}_h30_l1_GloVe\"\n",
    "best = f\"{orig}_GloVe\"\n",
    "\n",
    "orig_dev = json.load(open(f\"{orig}/best_metrics.json\"))\n",
    "best_dev = json.load(open(f\"{best}/best_metrics.json\"))\n",
    "\n",
    "diff = []\n",
    "for k in orig_dev[\"validation_accuracy_per_label\"].keys():\n",
    "    orig = orig_dev[\"validation_accuracy_per_label\"][k]\n",
    "    best = best_dev[\"validation_accuracy_per_label\"][k]\n",
    "    diff.append((best-orig, orig, best, k))\n",
    "diff.sort()\n",
    "diff"
   ]
  }
 ],
 "metadata": {
  "kernelspec": {
   "display_name": "Python 3 (ipykernel)",
   "language": "python",
   "name": "python3"
  },
  "language_info": {
   "codemirror_mode": {
    "name": "ipython",
    "version": 3
   },
   "file_extension": ".py",
   "mimetype": "text/x-python",
   "name": "python",
   "nbconvert_exporter": "python",
   "pygments_lexer": "ipython3",
   "version": "3.9.5"
  }
 },
 "nbformat": 4,
 "nbformat_minor": 5
}
